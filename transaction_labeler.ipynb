{
 "cells": [
  {
   "cell_type": "code",
   "execution_count": 92,
   "id": "52277539",
   "metadata": {},
   "outputs": [],
   "source": [
    "import pandas as pd\n",
    "from sklearn.model_selection import train_test_split\n",
    "from sklearn.feature_extraction.text import CountVectorizer, TfidfVectorizer\n",
    "from sklearn.naive_bayes import MultinomialNB\n",
    "from sklearn.metrics import classification_report, accuracy_score\n",
    "from sklearn.svm import SVC\n",
    "from sklearn.linear_model import SGDClassifier\n",
    "from sklearn.model_selection import GridSearchCV\n",
    "from sklearn.model_selection import RandomizedSearchCV\n",
    "import pickle"
   ]
  },
  {
   "cell_type": "code",
   "execution_count": 83,
   "id": "dca1bafa",
   "metadata": {},
   "outputs": [
    {
     "data": {
      "text/plain": [
       "0               DISCOVERY COFFEE\n",
       "1           FLW MADE IN COOKWARE\n",
       "2         AMZN Mktp CA*HF5J38GN1\n",
       "3         AMZN Mktp CA*HF5US1E72\n",
       "4           CHATGPT SUBSCRIPTION\n",
       "                 ...            \n",
       "171               MEUNDIES, INC.\n",
       "172    PHARMASAVE JAMES BAY #101\n",
       "173          THRIFTY FOODS #9454\n",
       "174    WAL-MART SUPERCENTER#1214\n",
       "175          THRIFTY FOODS #9465\n",
       "Name: transaction_description, Length: 176, dtype: object"
      ]
     },
     "execution_count": 83,
     "metadata": {},
     "output_type": "execute_result"
    }
   ],
   "source": [
    "df = pd.read_csv(\"./training_csvs/feb-mar-apr.csv\")\n",
    "df.columns = [\"transaction_description\", \"category\"]\n",
    "df[\"transaction_description\"]"
   ]
  },
  {
   "cell_type": "code",
   "execution_count": 88,
   "id": "09b34e94",
   "metadata": {},
   "outputs": [],
   "source": [
    "# Split the data\n",
    "X_train, X_test, y_train, y_test = train_test_split(\n",
    "    df['transaction_description'], df['category'], test_size=0.33, random_state=42\n",
    ")\n",
    "\n",
    "# Feature extraction using TfidfVectorizer\n",
    "# vectorizer = TfidfVectorizer()\n",
    "vectorizer = TfidfVectorizer(min_df=2, max_df=0.95, ngram_range=(1, 2), max_features=1000)\n",
    "\n",
    "X_train_vec = vectorizer.fit_transform(X_train)\n",
    "X_test_vec = vectorizer.transform(X_test)\n",
    "\n",
    "# Define hyperparameter distribution\n",
    "param_dist = {\n",
    "    'loss': ['hinge', 'log', 'modified_huber', 'squared_hinge', 'perceptron'],\n",
    "    'penalty': ['l2', 'l1', 'elasticnet'],\n",
    "    'alpha': [1e-4, 1e-3, 1e-2, 1e-1],\n",
    "    'max_iter': [1000, 2000, 3000],\n",
    "    'tol': [1e-3, 1e-4, 1e-5],\n",
    "}\n",
    "\n",
    "param_dist['learning_rate'] = ['optimal', 'constant', 'invscaling', 'adaptive']\n",
    "param_dist['eta0'] = [1e-4, 1e-3, 1e-2, 1e-1, 1]\n",
    "\n",
    "\n",
    "# Create an SGDClassifier instance\n",
    "sgd_clf = SGDClassifier(random_state=42)\n",
    "\n",
    "# Create a RandomizedSearchCV instance\n",
    "random_search = RandomizedSearchCV(\n",
    "    sgd_clf, param_dist, scoring='accuracy', cv=5, n_iter=500, n_jobs=-1, verbose=1, random_state=42\n",
    ")\n"
   ]
  },
  {
   "cell_type": "code",
   "execution_count": 89,
   "id": "bda3a541",
   "metadata": {},
   "outputs": [
    {
     "name": "stdout",
     "output_type": "stream",
     "text": [
      "Fitting 5 folds for each of 500 candidates, totalling 2500 fits\n"
     ]
    },
    {
     "name": "stderr",
     "output_type": "stream",
     "text": [
      "/usr/local/lib/python3.9/site-packages/sklearn/model_selection/_split.py:666: UserWarning: The least populated class in y has only 1 members, which is less than n_splits=5.\n",
      "  warnings.warn((\"The least populated class in y has only %d\"\n"
     ]
    },
    {
     "data": {
      "text/plain": [
       "RandomizedSearchCV(cv=5, estimator=SGDClassifier(random_state=42), n_iter=500,\n",
       "                   n_jobs=-1,\n",
       "                   param_distributions={'alpha': [0.0001, 0.001, 0.01, 0.1],\n",
       "                                        'eta0': [0.0001, 0.001, 0.01, 0.1, 1],\n",
       "                                        'learning_rate': ['optimal', 'constant',\n",
       "                                                          'invscaling',\n",
       "                                                          'adaptive'],\n",
       "                                        'loss': ['hinge', 'log',\n",
       "                                                 'modified_huber',\n",
       "                                                 'squared_hinge',\n",
       "                                                 'perceptron'],\n",
       "                                        'max_iter': [1000, 2000, 3000],\n",
       "                                        'penalty': ['l2', 'l1', 'elasticnet'],\n",
       "                                        'tol': [0.001, 0.0001, 1e-05]},\n",
       "                   random_state=42, scoring='accuracy', verbose=1)"
      ]
     },
     "execution_count": 89,
     "metadata": {},
     "output_type": "execute_result"
    }
   ],
   "source": [
    "# Train the RandomizedSearchCV instance on the preprocessed training data\n",
    "random_search.fit(X_train_vec, y_train)"
   ]
  },
  {
   "cell_type": "code",
   "execution_count": 90,
   "id": "3b825f21",
   "metadata": {},
   "outputs": [
    {
     "name": "stdout",
     "output_type": "stream",
     "text": [
      "Best hyperparameters:  {'tol': 0.001, 'penalty': 'l2', 'max_iter': 3000, 'loss': 'squared_hinge', 'learning_rate': 'optimal', 'eta0': 0.1, 'alpha': 0.1}\n",
      "Best accuracy score:  0.7351449275362318\n"
     ]
    }
   ],
   "source": [
    "# Check the best combination of hyperparameters and the corresponding score\n",
    "print(\"Best hyperparameters: \", random_search.best_params_)\n",
    "print(\"Best accuracy score: \", random_search.best_score_)"
   ]
  },
  {
   "cell_type": "code",
   "execution_count": 93,
   "id": "79ec7a50",
   "metadata": {},
   "outputs": [],
   "source": [
    "# Save the model\n",
    "with open('sgd_classifier.pkl', 'wb') as f:\n",
    "    pickle.dump(random_search.best_estimator_, f)\n",
    "\n",
    "# Save the vectorizer\n",
    "with open('vectorizer.pkl', 'wb') as f:\n",
    "    pickle.dump(vectorizer, f)"
   ]
  },
  {
   "cell_type": "code",
   "execution_count": 41,
   "id": "4c156246",
   "metadata": {},
   "outputs": [],
   "source": [
    "X_train, X_test, y_train, y_test = train_test_split(\n",
    "    df['transaction_description'], \n",
    "    df['category'], \n",
    "    test_size=0.33, \n",
    "    random_state=42\n",
    ")"
   ]
  },
  {
   "cell_type": "code",
   "execution_count": 42,
   "id": "c3c8c474",
   "metadata": {},
   "outputs": [],
   "source": [
    "vectorizer = TfidfVectorizer()\n",
    "X_train_vec = vectorizer.fit_transform(X_train)\n",
    "X_test_vec = vectorizer.transform(X_test)"
   ]
  },
  {
   "cell_type": "code",
   "execution_count": 43,
   "id": "91ab9b5a",
   "metadata": {},
   "outputs": [
    {
     "name": "stdout",
     "output_type": "stream",
     "text": [
      "                precision    recall  f1-score   support\n",
      "\n",
      "   coffee shop       1.00      1.00      1.00         2\n",
      "     going out       0.35      1.00      0.52        11\n",
      "     groceries       0.67      0.40      0.50         5\n",
      "        health       1.00      0.00      0.00         2\n",
      "       payment       1.00      1.00      1.00         3\n",
      "      shopping       0.60      0.50      0.55         6\n",
      " subscriptions       0.83      0.71      0.77        14\n",
      "transportation       1.00      0.14      0.25         7\n",
      "        travel       1.00      0.29      0.44         7\n",
      "     utilities       1.00      0.00      0.00         2\n",
      "\n",
      "      accuracy                           0.58        59\n",
      "     macro avg       0.85      0.50      0.50        59\n",
      "  weighted avg       0.77      0.58      0.55        59\n",
      "\n",
      "Accuracy: 0.576271186440678\n"
     ]
    }
   ],
   "source": [
    "svm_clf = SVC(kernel='linear', C=1, random_state=42)\n",
    "svm_clf.fit(X_train_vec, y_train)\n",
    "\n",
    "y_pred_svm = svm_clf.predict(X_test_vec)\n",
    "print(classification_report(y_test, y_pred_svm, zero_division=1))\n",
    "print(\"Accuracy:\", accuracy_score(y_test, y_pred_svm))"
   ]
  },
  {
   "cell_type": "code",
   "execution_count": 76,
   "id": "50e4ed88",
   "metadata": {},
   "outputs": [],
   "source": [
    "param_grid = {\n",
    "    'loss': ['hinge', 'log', 'modified_huber', 'squared_hinge', 'perceptron'],\n",
    "    'penalty': ['l2', 'l1', 'elasticnet'],\n",
    "    'alpha': [1e-4, 1e-3, 1e-2, 1e-1],\n",
    "    'max_iter': [1000, 2000, 3000],\n",
    "    'tol': [1e-3, 1e-4, 1e-5],\n",
    "}\n",
    "\n",
    "sgd_clf = SGDClassifier(random_state=42)\n",
    "\n",
    "grid_search = GridSearchCV(sgd_clf, param_grid, scoring='accuracy', cv=5, n_jobs=-1, verbose=1)"
   ]
  },
  {
   "cell_type": "code",
   "execution_count": 77,
   "id": "44a769d7",
   "metadata": {},
   "outputs": [
    {
     "name": "stdout",
     "output_type": "stream",
     "text": [
      "Fitting 5 folds for each of 540 candidates, totalling 2700 fits\n"
     ]
    },
    {
     "name": "stderr",
     "output_type": "stream",
     "text": [
      "/usr/local/lib/python3.9/site-packages/sklearn/model_selection/_split.py:666: UserWarning: The least populated class in y has only 1 members, which is less than n_splits=5.\n",
      "  warnings.warn((\"The least populated class in y has only %d\"\n"
     ]
    },
    {
     "data": {
      "text/plain": [
       "GridSearchCV(cv=5, estimator=SGDClassifier(random_state=42), n_jobs=-1,\n",
       "             param_grid={'alpha': [0.0001, 0.001, 0.01, 0.1],\n",
       "                         'loss': ['hinge', 'log', 'modified_huber',\n",
       "                                  'squared_hinge', 'perceptron'],\n",
       "                         'max_iter': [1000, 2000, 3000],\n",
       "                         'penalty': ['l2', 'l1', 'elasticnet'],\n",
       "                         'tol': [0.001, 0.0001, 1e-05]},\n",
       "             scoring='accuracy', verbose=1)"
      ]
     },
     "execution_count": 77,
     "metadata": {},
     "output_type": "execute_result"
    }
   ],
   "source": [
    "grid_search.fit(X_train_vec, y_train)"
   ]
  },
  {
   "cell_type": "code",
   "execution_count": 78,
   "id": "bfda3aa0",
   "metadata": {},
   "outputs": [
    {
     "name": "stdout",
     "output_type": "stream",
     "text": [
      "Best hyperparameters:  {'alpha': 0.001, 'loss': 'log', 'max_iter': 1000, 'penalty': 'l2', 'tol': 1e-05}\n",
      "Best accuracy score:  0.7351449275362318\n",
      "                precision    recall  f1-score   support\n",
      "\n",
      "   coffee shop       1.00      1.00      1.00         2\n",
      "     going out       0.37      0.91      0.53        11\n",
      "     groceries       0.75      0.60      0.67         5\n",
      "        health       1.00      0.00      0.00         2\n",
      "       payment       1.00      1.00      1.00         3\n",
      "      shopping       0.50      0.50      0.50         6\n",
      " subscriptions       0.83      0.71      0.77        14\n",
      "transportation       0.67      0.29      0.40         7\n",
      "        travel       1.00      0.29      0.44         7\n",
      "     utilities       1.00      0.00      0.00         2\n",
      "\n",
      "      accuracy                           0.59        59\n",
      "     macro avg       0.81      0.53      0.53        59\n",
      "  weighted avg       0.73      0.59      0.57        59\n",
      "\n",
      "Accuracy: 0.5932203389830508\n"
     ]
    }
   ],
   "source": [
    "print(\"Best hyperparameters: \", grid_search.best_params_)\n",
    "print(\"Best accuracy score: \", grid_search.best_score_)\n",
    "\n",
    "y_pred_gs = grid_search.best_estimator_.predict(X_test_vec)\n",
    "print(classification_report(y_test, y_pred_gs, zero_division=1))\n",
    "print(\"Accuracy:\", accuracy_score(y_test, y_pred_gs))"
   ]
  },
  {
   "cell_type": "code",
   "execution_count": null,
   "id": "16a9de1e",
   "metadata": {},
   "outputs": [],
   "source": [
    "random_search = RandomizedSearchCV(\n",
    "    sgd_clf, param_grid, scoring='accuracy', cv=5, n_iter=50, n_jobs=-1, verbose=1, random_state=42\n",
    ")"
   ]
  },
  {
   "cell_type": "code",
   "execution_count": null,
   "id": "90fd12b2",
   "metadata": {},
   "outputs": [],
   "source": [
    "random_search.fit(X_train_vec, y_train)"
   ]
  },
  {
   "cell_type": "code",
   "execution_count": null,
   "id": "38633c8b",
   "metadata": {},
   "outputs": [],
   "source": [
    "print(\"Best hyperparameters: \", random_search.best_params_)\n",
    "print(\"Best accuracy score: \", random_search.best_score_)\n",
    "y_pred_rs = random_search.best_estimator_.predict(X_test_vec)\n",
    "print(classification_report"
   ]
  },
  {
   "cell_type": "code",
   "execution_count": 74,
   "id": "c2dcf202",
   "metadata": {},
   "outputs": [
    {
     "name": "stdout",
     "output_type": "stream",
     "text": [
      "                precision    recall  f1-score   support\n",
      "\n",
      "   coffee shop       1.00      1.00      1.00         2\n",
      "     going out       0.37      0.91      0.53        11\n",
      "     groceries       0.75      0.60      0.67         5\n",
      "        health       1.00      0.00      0.00         2\n",
      "       payment       1.00      1.00      1.00         3\n",
      "      shopping       0.50      0.50      0.50         6\n",
      " subscriptions       1.00      0.71      0.83        14\n",
      "transportation       0.67      0.29      0.40         7\n",
      "        travel       1.00      0.43      0.60         7\n",
      "     utilities       1.00      0.50      0.67         2\n",
      "\n",
      "      accuracy                           0.63        59\n",
      "     macro avg       0.83      0.59      0.62        59\n",
      "  weighted avg       0.77      0.63      0.63        59\n",
      "\n",
      "Accuracy: 0.6271186440677966\n"
     ]
    }
   ],
   "source": [
    "sgd_clf = SGDClassifier(loss='hinge', penalty='l2', alpha=5e-3, random_state=42, max_iter=10_000, tol=1e-3)\n",
    "sgd_clf.fit(X_train_vec, y_train)\n",
    "\n",
    "y_pred_sgd = sgd_clf.predict(X_test_vec)\n",
    "print(classification_report(y_test, y_pred_sgd, zero_division=1))\n",
    "print(\"Accuracy:\", accuracy_score(y_test, y_pred_sgd))"
   ]
  },
  {
   "cell_type": "code",
   "execution_count": null,
   "id": "517d86af",
   "metadata": {},
   "outputs": [],
   "source": []
  }
 ],
 "metadata": {
  "kernelspec": {
   "display_name": "Python 3",
   "language": "python",
   "name": "python3"
  },
  "language_info": {
   "codemirror_mode": {
    "name": "ipython",
    "version": 3
   },
   "file_extension": ".py",
   "mimetype": "text/x-python",
   "name": "python",
   "nbconvert_exporter": "python",
   "pygments_lexer": "ipython3",
   "version": "3.9.13"
  }
 },
 "nbformat": 4,
 "nbformat_minor": 5
}
